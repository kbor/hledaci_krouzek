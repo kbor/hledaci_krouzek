{
 "cells": [
  {
   "cell_type": "markdown",
   "metadata": {},
   "source": [
    "# Druhy vstupu"
   ]
  },
  {
   "cell_type": "markdown",
   "metadata": {},
   "source": [
    "-----------"
   ]
  },
  {
   "cell_type": "markdown",
   "metadata": {},
   "source": [
    "* __Python__ (*ctrl-m y*)\n",
    "* __Markdown__ (*ctrl-m m*)\n",
    "* __LaTeX__\n",
    "* __HTML__\n",
    "* ... kombinace toho všeho"
   ]
  },
  {
   "cell_type": "markdown",
   "metadata": {},
   "source": [
    "-----------------------"
   ]
  },
  {
   "cell_type": "markdown",
   "metadata": {},
   "source": [
    "## 1. Python"
   ]
  },
  {
   "cell_type": "code",
   "execution_count": 39,
   "metadata": {
    "collapsed": false
   },
   "outputs": [
    {
     "name": "stdout",
     "output_type": "stream",
     "text": [
      "Hello World!\n"
     ]
    }
   ],
   "source": [
    "print(\"Hello World!\")"
   ]
  },
  {
   "cell_type": "markdown",
   "metadata": {},
   "source": [
    "#### $ \\LaTeX $ z Pythonu"
   ]
  },
  {
   "cell_type": "code",
   "execution_count": 48,
   "metadata": {
    "collapsed": false
   },
   "outputs": [
    {
     "data": {
      "text/latex": [
       "$$F(k) = \\int_{-\\infty}^{\\infty} f(x) e^{2\\pi i k} dx$$"
      ],
      "text/plain": [
       "<IPython.core.display.Math object>"
      ]
     },
     "metadata": {},
     "output_type": "display_data"
    }
   ],
   "source": [
    "from IPython.display import display, Math, Latex\n",
    "\n",
    "display(Math(r'F(k) = \\int_{-\\infty}^{\\infty} f(x) e^{2\\pi i k} dx'))"
   ]
  },
  {
   "cell_type": "markdown",
   "metadata": {},
   "source": [
    "----------"
   ]
  },
  {
   "cell_type": "markdown",
   "metadata": {},
   "source": [
    "## 2. Markdown"
   ]
  },
  {
   "cell_type": "markdown",
   "metadata": {},
   "source": [
    "#### Obyčejný Markdown"
   ]
  },
  {
   "cell_type": "markdown",
   "metadata": {},
   "source": [
    "* ##nadpisy\n",
    "* odrážkové listy\n",
    "  * a\n",
    "  * b \n",
    "  * c\n",
    "* formátování: __tučné__, *kurzíva*, ```code```, ...\n"
   ]
  },
  {
   "cell_type": "markdown",
   "metadata": {},
   "source": [
    "#### Obrázky přímo v Markdownu: \n",
    "![](http://www.clker.com/cliparts/n/5/p/D/9/H/glossy-black-icon-button-th.png \"Volitelný popisek k obrázku\")"
   ]
  },
  {
   "cell_type": "markdown",
   "metadata": {},
   "source": [
    "#### HTML přímo v Markdownu:\n",
    "<table>\n",
    "  <b><tr><td>výzkumník</td><td>pivo (L)</td><td>vodka (ks)</td><td>rum (ks)</td></tr></b>\n",
    "  <tr><td>Jirka</td><td>2</td><td>4</td><td>20</td></tr>\n",
    "  <tr><td>Káďa</td><td>1.5</td><td>7</td><td>3</td></tr>\n",
    "  <tr><td>Juraj</td><td>2</td><td>2</td><td>12</td></tr>\n",
    "  <tr><td>...</td><td>...</td><td>...</td><td>...</td></tr>\n",
    "</table>"
   ]
  },
  {
   "cell_type": "markdown",
   "metadata": {},
   "source": [
    "#### $ \\LaTeX $ v Markdownu:\n",
    "* $ \\alpha + \\beta = \\gamma $\n",
    "* The big sum: $$ \\sum_{i = 0}^{i = \\infty}{x ^ 2} $$\n"
   ]
  },
  {
   "cell_type": "markdown",
   "metadata": {},
   "source": [
    "## 3. HTML přes magic"
   ]
  },
  {
   "cell_type": "code",
   "execution_count": 30,
   "metadata": {
    "collapsed": false
   },
   "outputs": [
    {
     "data": {
      "text/html": [
       "<img src=\"https://encrypted-tbn3.gstatic.com/images?q=tbn:ANd9GcQHRRVF01jAFDAfcJ_oE0umMBbujgmtUNPTXxPdnvxbAITkMPXmQw\"\n",
       " width=\"40\" style=\"position: relative; left: -100px;\">"
      ],
      "text/plain": [
       "<IPython.core.display.HTML object>"
      ]
     },
     "metadata": {},
     "output_type": "display_data"
    }
   ],
   "source": [
    "%%html\n",
    "\n",
    "<img src=\"https://encrypted-tbn3.gstatic.com/images?q=tbn:ANd9GcQHRRVF01jAFDAfcJ_oE0umMBbujgmtUNPTXxPdnvxbAITkMPXmQw\"\n",
    " width=\"40\" style=\"position: relative; left: -100px;\">"
   ]
  }
 ],
 "metadata": {
  "kernelspec": {
   "display_name": "Python 2",
   "language": "python",
   "name": "python2"
  },
  "language_info": {
   "codemirror_mode": {
    "name": "ipython",
    "version": 2
   },
   "file_extension": ".py",
   "mimetype": "text/x-python",
   "name": "python",
   "nbconvert_exporter": "python",
   "pygments_lexer": "ipython2",
   "version": "2.7.3"
  }
 },
 "nbformat": 4,
 "nbformat_minor": 0
}
