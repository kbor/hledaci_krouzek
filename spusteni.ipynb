{
 "cells": [
  {
   "cell_type": "markdown",
   "metadata": {},
   "source": [
    "# Spuštění"
   ]
  },
  {
   "cell_type": "markdown",
   "metadata": {},
   "source": [
    "__```jupyther-notebook```__\n",
    "\n",
    "* ```--no-browser```\n",
    "* ```--port=8888```\n",
    "* ```--ip=localhost``` # ```--ip='*'```\n",
    "\n",
    "konfigurák: ```~/.jupyther/jupyter_notebook_config.py```"
   ]
  },
  {
   "cell_type": "code",
   "execution_count": 2,
   "metadata": {
    "collapsed": false
   },
   "outputs": [
    {
     "name": "stdout",
     "output_type": "stream",
     "text": [
      "total 28\r\n",
      "drwx------  2 krystof krystof    54 Sep 29 09:54 \u001b[0m\u001b[01;34m.\u001b[0m/\r\n",
      "drwxr-xr-x 13 krystof krystof  4096 Sep 29 12:08 \u001b[01;34m..\u001b[0m/\r\n",
      "-rw-r--r--  1 krystof krystof 18980 Sep 23 14:51 jupyter_notebook_config.py\r\n",
      "-rw-r--r--  1 krystof krystof    26 Sep 23 14:55 migrated\r\n"
     ]
    }
   ],
   "source": [
    "ls -la /home/krystof/.jupyter/\n"
   ]
  }
 ],
 "metadata": {
  "kernelspec": {
   "display_name": "Python 3",
   "language": "python",
   "name": "python3"
  },
  "language_info": {
   "codemirror_mode": {
    "name": "ipython",
    "version": 3
   },
   "file_extension": ".py",
   "mimetype": "text/x-python",
   "name": "python",
   "nbconvert_exporter": "python",
   "pygments_lexer": "ipython3",
   "version": "3.4.3"
  }
 },
 "nbformat": 4,
 "nbformat_minor": 0
}
