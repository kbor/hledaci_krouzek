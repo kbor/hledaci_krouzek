{
 "cells": [
  {
   "cell_type": "markdown",
   "metadata": {},
   "source": [
    "# Druhy vstupu"
   ]
  },
  {
   "cell_type": "markdown",
   "metadata": {},
   "source": [
    "-----------"
   ]
  },
  {
   "cell_type": "markdown",
   "metadata": {},
   "source": [
    "* __Python__ (*ctrl-m y*)\n",
    "* __Markdown__ (*ctrl-m m*)\n",
    "* __LaTeX__\n",
    "* __HTML__\n",
    "* __Bash__\n",
    "* ... a všelijaké kombinace"
   ]
  },
  {
   "cell_type": "markdown",
   "metadata": {},
   "source": [
    "-----------------------"
   ]
  },
  {
   "cell_type": "markdown",
   "metadata": {},
   "source": [
    "## 1. Python"
   ]
  },
  {
   "cell_type": "markdown",
   "metadata": {},
   "source": [
    "### 1.1 Obyčejný text z Pythonu"
   ]
  },
  {
   "cell_type": "code",
   "execution_count": 3,
   "metadata": {
    "collapsed": false
   },
   "outputs": [
    {
     "name": "stdout",
     "output_type": "stream",
     "text": [
      "Hello World!\n"
     ]
    }
   ],
   "source": [
    "print(\"Hello World!\")"
   ]
  },
  {
   "cell_type": "markdown",
   "metadata": {},
   "source": [
    "### 1.2 LaTeX z Pythonu"
   ]
  },
  {
   "cell_type": "code",
   "execution_count": 4,
   "metadata": {
    "collapsed": false
   },
   "outputs": [
    {
     "data": {
      "text/latex": [
       "$$F(k) = \\int_{-\\infty}^{\\infty} f(x) e^{2\\pi i k} dx$$"
      ],
      "text/plain": [
       "<IPython.core.display.Math object>"
      ]
     },
     "metadata": {},
     "output_type": "display_data"
    }
   ],
   "source": [
    "from IPython.display import display, Math, Latex\n",
    "\n",
    "display(Math(r'F(k) = \\int_{-\\infty}^{\\infty} f(x) e^{2\\pi i k} dx'))"
   ]
  },
  {
   "cell_type": "markdown",
   "metadata": {},
   "source": [
    "### 1.3 Obrázky z Pythonu"
   ]
  },
  {
   "cell_type": "code",
   "execution_count": 5,
   "metadata": {
    "collapsed": false
   },
   "outputs": [
    {
     "data": {
      "text/html": [
       "<img src=\"https://www.pehub.com/wp-content/uploads/2013/08/DNA-Strand-and-Researcher-2.jpg\"/>"
      ],
      "text/plain": [
       "<IPython.core.display.Image object>"
      ]
     },
     "execution_count": 5,
     "metadata": {},
     "output_type": "execute_result"
    }
   ],
   "source": [
    "from IPython.display import Image\n",
    "\n",
    "Image(url='https://www.pehub.com/wp-content/uploads/2013/08/DNA-Strand-and-Researcher-2.jpg') "
   ]
  },
  {
   "cell_type": "markdown",
   "metadata": {},
   "source": [
    "### 1.4 Matplotlibový Grafy z Pythonu"
   ]
  },
  {
   "cell_type": "code",
   "execution_count": 6,
   "metadata": {
    "collapsed": false
   },
   "outputs": [
    {
     "data": {
      "image/png": "[encoded data removed]",
      "text/plain": [
       "<matplotlib.figure.Figure at 0x7f618080ce90>"
      ]
     },
     "metadata": {},
     "output_type": "display_data"
    }
   ],
   "source": [
    "%matplotlib inline\n",
    "\n",
    "import matplotlib.pyplot as plt\n",
    "import numpy as np\n",
    "\n",
    "data = {\"A\": 4, \"B\": 3, \"C\": 12}\n",
    "\n",
    "x = np.arange(len(data))\n",
    "plt.bar(x, data.values())\n",
    "plt.xticks(x, data.keys())\n",
    "ymax = max(data.values()) + 1\n",
    "plt.ylim(0, ymax)\n",
    "plt.xlim(-1, 10)\n",
    "plt.title(\"DATA\")\n",
    "plt.show()"
   ]
  },
  {
   "cell_type": "markdown",
   "metadata": {},
   "source": [
    "----------"
   ]
  },
  {
   "cell_type": "markdown",
   "metadata": {},
   "source": [
    "## 2. Markdown"
   ]
  },
  {
   "cell_type": "markdown",
   "metadata": {},
   "source": [
    "### 2.1 Obyčejný Markdown"
   ]
  },
  {
   "cell_type": "markdown",
   "metadata": {},
   "source": [
    "* nadpisy\n",
    "* odrážkové listy\n",
    "  * a\n",
    "  * b \n",
    "  * c\n",
    "* formátování: __tučné__, *kurzíva*, ```code```, ...\n",
    "* [odkazy](zkratky.ipynb) na jiné notebooky"
   ]
  },
  {
   "cell_type": "markdown",
   "metadata": {},
   "source": [
    "### 2.2 Obrázky přímo v Markdownu: \n",
    "![](button.png)"
   ]
  },
  {
   "cell_type": "markdown",
   "metadata": {},
   "source": [
    "### 2.3 HTML přímo v Markdownu:\n",
    "<table>\n",
    "  <b><tr><td>výzkumník</td><td>pivo (L)</td><td>vodka (ks)</td><td>rum (ks)</td></tr></b>\n",
    "  <tr><td>Jirka</td><td>2</td><td>4</td><td>20</td></tr>\n",
    "  <tr><td>Káďa</td><td>1.5</td><td>7</td><td>3</td></tr>\n",
    "  <tr><td>Juraj</td><td>2</td><td>2</td><td>12</td></tr>\n",
    "  <tr><td>...</td><td>...</td><td>...</td><td>...</td></tr>\n",
    "</table>"
   ]
  },
  {
   "cell_type": "markdown",
   "metadata": {},
   "source": [
    "### 2.4 LaTeX v Markdownu:\n",
    "* $$ \\alpha + \\beta = \\gamma $$\n",
    "* The big sum: $$ \\sum_{i = 0}^{i = \\infty}{x ^ 2} $$\n"
   ]
  },
  {
   "cell_type": "markdown",
   "metadata": {},
   "source": [
    "## 3. HTML přes magic"
   ]
  },
  {
   "cell_type": "code",
   "execution_count": 7,
   "metadata": {
    "collapsed": false
   },
   "outputs": [
    {
     "data": {
      "text/html": [
       "\n",
       "<img src=\"https://encrypted-tbn3.gstatic.com/images?q=tbn:ANd9GcQHRRVF01jAFDAfcJ_oE0umMBbujgmtUNPTXxPdnvxbAITkMPXmQw\"\n",
       " width=\"40\">"
      ],
      "text/plain": [
       "<IPython.core.display.HTML object>"
      ]
     },
     "metadata": {},
     "output_type": "display_data"
    }
   ],
   "source": [
    "%%html\n",
    "\n",
    "<img src=\"https://encrypted-tbn3.gstatic.com/images?q=tbn:ANd9GcQHRRVF01jAFDAfcJ_oE0umMBbujgmtUNPTXxPdnvxbAITkMPXmQw\"\n",
    " width=\"40\">"
   ]
  },
  {
   "cell_type": "code",
   "execution_count": 8,
   "metadata": {
    "collapsed": false
   },
   "outputs": [
    {
     "data": {
      "text/html": [
       "<iframe width=\"560\" height=\"315\" src=\"https://www.youtube.com/embed/6SmYNknxtE4\" frameborder=\"0\" allowfullscreen></iframe>"
      ],
      "text/plain": [
       "<IPython.core.display.HTML object>"
      ]
     },
     "metadata": {},
     "output_type": "display_data"
    }
   ],
   "source": [
    "%%html\n",
    "<iframe width=\"560\" height=\"315\" src=\"https://www.youtube.com/embed/6SmYNknxtE4\" frameborder=\"0\" allowfullscreen></iframe>"
   ]
  },
  {
   "cell_type": "markdown",
   "metadata": {},
   "source": [
    "## 4. $ \\LaTeX $ přes magic"
   ]
  },
  {
   "cell_type": "code",
   "execution_count": 9,
   "metadata": {
    "collapsed": false
   },
   "outputs": [
    {
     "data": {
      "text/latex": [
       "\n",
       "\\begin{align}\n",
       "\\nabla \\times \\vec{\\mathbf{B}} -\\, \\frac1c\\, \\frac{\\partial\\vec{\\mathbf{E}}}{\\partial t} & = \\frac{4\\pi}{c}\\vec{\\mathbf{j}} \\\\\n",
       "\\nabla \\cdot \\vec{\\mathbf{E}} & = 4 \\pi \\rho \\\\\n",
       "\\nabla \\times \\vec{\\mathbf{E}}\\, +\\, \\frac1c\\, \\frac{\\partial\\vec{\\mathbf{B}}}{\\partial t} & = \\vec{\\mathbf{0}} \\\\\n",
       "\\nabla \\cdot \\vec{\\mathbf{B}} & = 0\n",
       "\\end{align}"
      ],
      "text/plain": [
       "<IPython.core.display.Latex object>"
      ]
     },
     "metadata": {},
     "output_type": "display_data"
    }
   ],
   "source": [
    "%%latex\n",
    "\n",
    "\\begin{align}\n",
    "\\nabla \\times \\vec{\\mathbf{B}} -\\, \\frac1c\\, \\frac{\\partial\\vec{\\mathbf{E}}}{\\partial t} & = \\frac{4\\pi}{c}\\vec{\\mathbf{j}} \\\\\n",
    "\\nabla \\cdot \\vec{\\mathbf{E}} & = 4 \\pi \\rho \\\\\n",
    "\\nabla \\times \\vec{\\mathbf{E}}\\, +\\, \\frac1c\\, \\frac{\\partial\\vec{\\mathbf{B}}}{\\partial t} & = \\vec{\\mathbf{0}} \\\\\n",
    "\\nabla \\cdot \\vec{\\mathbf{B}} & = 0\n",
    "\\end{align}"
   ]
  },
  {
   "cell_type": "markdown",
   "metadata": {},
   "source": [
    "## 5. Bash přes magic"
   ]
  },
  {
   "cell_type": "code",
   "execution_count": 10,
   "metadata": {
    "collapsed": false
   },
   "outputs": [
    {
     "name": "stdout",
     "output_type": "stream",
     "text": [
      "total 468K\n",
      "drwxrwxr-x 6 krystof krystof 4,0K zář 23 10:06 .\n",
      "drwxr-xr-x 9 krystof krystof 4,0K zář 23 08:21 ..\n",
      "-rw-rw-r-- 1 krystof krystof  20K zář 23 08:21 brnenske_vychytavky.ipynb\n",
      "-rw-rw-r-- 1 krystof krystof 2,3K zář 23 08:27 button.png\n",
      "drwxr-xr-x 2 krystof krystof 4,0K zář 23 08:54 druhy_vstupu_files\n",
      "-rw-rw-r-- 1 krystof krystof  14K zář 23 10:06 druhy_vstupu.ipynb\n",
      "-rw-rw-r-- 1 krystof krystof  45K zář 23 09:51 druhy_vstupu.log\n",
      "-rw-rw-r-- 1 krystof krystof 3,9K zář 23 09:58 druhy_vstupu.md\n",
      "-rw-rw-r-- 1 krystof krystof  50K zář 23 09:58 druhy_vstupu.pdf\n",
      "-rw-rw-r-- 1 krystof krystof  21K zář 23 08:55 druhy_vstupu.tex\n",
      "-rw-rw-r-- 1 krystof krystof 2,9K zář 23 08:21 export.ipynb\n",
      "-rw-rw-r-- 1 krystof krystof  81K zář 23 08:45 export.pdf\n",
      "drwxrwxr-x 8 krystof krystof 4,0K zář 23 08:21 .git\n",
      "-rw-rw-r-- 1 krystof krystof  59K zář 23 08:21 grafiky.ipynb\n",
      "-rw-rw-r-- 1 krystof krystof  773 zář 23 08:21 importeni_1.ipynb\n",
      "-rw-rw-r-- 1 krystof krystof 3,6K zář 23 08:21 importeni_2.ipynb\n",
      "drwxrwxr-x 3 krystof krystof 4,0K zář 23 08:21 importeni_sub_folder\n",
      "drwxr-xr-x 2 krystof krystof 4,0K zář 23 08:23 .ipynb_checkpoints\n",
      "-rw-rw-r-- 1 krystof krystof   18 zář 23 08:21 README.md\n",
      "-rw-rw-r-- 1 krystof krystof 1,1K zář 23 08:21 zkratky.ipynb\n"
     ]
    }
   ],
   "source": [
    "%%bash\n",
    "\n",
    "ls -lah"
   ]
  },
  {
   "cell_type": "code",
   "execution_count": 11,
   "metadata": {
    "collapsed": false
   },
   "outputs": [
    {
     "name": "stdout",
     "output_type": "stream",
     "text": [
      "games:x:5:60:games:/usr/games:/usr/sbin/nologin\n"
     ]
    }
   ],
   "source": [
    "%%bash\n",
    "\n",
    "head /etc/passwd | grep games"
   ]
  }
 ],
 "metadata": {
  "kernelspec": {
   "display_name": "Python 2",
   "language": "python",
   "name": "python2"
  },
  "language_info": {
   "codemirror_mode": {
    "name": "ipython",
    "version": 2
   },
   "file_extension": ".py",
   "mimetype": "text/x-python",
   "name": "python",
   "nbconvert_exporter": "python",
   "pygments_lexer": "ipython2",
   "version": "2.7.6"
  }
 },
 "nbformat": 4,
 "nbformat_minor": 0
}
