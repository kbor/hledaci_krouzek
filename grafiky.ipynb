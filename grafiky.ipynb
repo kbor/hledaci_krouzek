{
 "cells": [
  {
   "cell_type": "markdown",
   "metadata": {},
   "source": [
    "# Grafíky\n",
    "\n",
    "## Matplotlib"
   ]
  },
  {
   "cell_type": "code",
   "execution_count": 4,
   "metadata": {
    "collapsed": false
   },
   "outputs": [
    {
     "data": {
      "image/png": "[encoded data removed]",
      "text/plain": [
       "<matplotlib.figure.Figure at 0x7f31c011a2d0>"
      ]
     },
     "metadata": {},
     "output_type": "display_data"
    }
   ],
   "source": [
    "% matplotlib inline\n",
    "\n",
    "import numpy as np\n",
    "import matplotlib.pyplot as plt\n",
    "\n",
    "d = {'fernet': 5, 'vodka': 2, 'fridex': 2, 'drak': 1, 'pivo': 1}\n",
    "\n",
    "jet = plt.get_cmap('jet')\n",
    "N = len(d)\n",
    "plt.figure(figsize=(15,8))\n",
    "plt.bar(range(N), d.values(), align='center', color=jet(np.linspace(0, 1.0, N)))\n",
    "plt.xticks(range(N), d.keys(), rotation=25)\n",
    "plt.show()"
   ]
  },
  {
   "cell_type": "markdown",
   "metadata": {},
   "source": [
    "# Schémata pomocí Graphviz"
   ]
  },
  {
   "cell_type": "markdown",
   "metadata": {},
   "source": [
    "## 1. Popis grafu v Pythonu"
   ]
  },
  {
   "cell_type": "code",
   "execution_count": 5,
   "metadata": {
    "collapsed": false
   },
   "outputs": [
    {
     "data": {
      "image/svg+xml": [
       "<?xml version=\"1.0\" encoding=\"UTF-8\" standalone=\"no\"?>\n",
       "<!DOCTYPE svg PUBLIC \"-//W3C//DTD SVG 1.1//EN\"\n",
       " \"http://www.w3.org/Graphics/SVG/1.1/DTD/svg11.dtd\">\n",
       "<!-- Generated by graphviz version 2.26.3 (20100126.1600)\n",
       " -->\n",
       "<!-- Title: _anonymous_0 Pages: 1 -->\n",
       "<svg width=\"422pt\" height=\"116pt\"\n",
       " viewBox=\"0.00 0.00 422.00 116.00\" xmlns=\"http://www.w3.org/2000/svg\" xmlns:xlink=\"http://www.w3.org/1999/xlink\">\n",
       "<g id=\"graph1\" class=\"graph\" transform=\"scale(1 1) rotate(0) translate(4 112)\">\n",
       "<title>_anonymous_0</title>\n",
       "<polygon fill=\"white\" stroke=\"white\" points=\"-4,5 -4,-112 419,-112 419,5 -4,5\"/>\n",
       "<!-- pivo -->\n",
       "<g id=\"node1\" class=\"node\"><title>pivo</title>\n",
       "<polygon fill=\"none\" stroke=\"black\" points=\"162,-108 108,-108 108,-72 162,-72 162,-108\"/>\n",
       "<text text-anchor=\"middle\" x=\"135\" y=\"-87.4\" font-family=\"Times Roman,serif\" font-size=\"9.00\" fill=\"green\">pivo</text>\n",
       "</g>\n",
       "<!-- Alan -->\n",
       "<g id=\"node6\" class=\"node\"><title>Alan</title>\n",
       "<polygon fill=\"none\" stroke=\"black\" points=\"198,-36 144,-36 144,-1.77636e-14 198,-3.55271e-15 198,-36\"/>\n",
       "<text text-anchor=\"middle\" x=\"171\" y=\"-15.4\" font-family=\"Times Roman,serif\" font-size=\"9.00\" fill=\"green\">Alan</text>\n",
       "</g>\n",
       "<!-- pivo&#45;&gt;Alan -->\n",
       "<g id=\"edge2\" class=\"edge\"><title>pivo&#45;&gt;Alan</title>\n",
       "<path fill=\"none\" stroke=\"black\" d=\"M144.084,-71.8314C148.061,-63.8771 152.815,-54.369 157.214,-45.5723\"/>\n",
       "<polygon fill=\"black\" stroke=\"black\" points=\"160.452,-46.9228 161.793,-36.4133 154.191,-43.7923 160.452,-46.9228\"/>\n",
       "</g>\n",
       "<!-- Marek -->\n",
       "<g id=\"node7\" class=\"node\"><title>Marek</title>\n",
       "<polygon fill=\"none\" stroke=\"black\" points=\"54,-36 2.13163e-14,-36 0,-1.77636e-14 54,-3.55271e-15 54,-36\"/>\n",
       "<text text-anchor=\"middle\" x=\"27\" y=\"-15.4\" font-family=\"Times Roman,serif\" font-size=\"9.00\" fill=\"green\">Marek</text>\n",
       "</g>\n",
       "<!-- pivo&#45;&gt;Marek -->\n",
       "<g id=\"edge10\" class=\"edge\"><title>pivo&#45;&gt;Marek</title>\n",
       "<path fill=\"none\" stroke=\"black\" d=\"M107.747,-71.8314C94.0611,-62.7074 77.3085,-51.539 62.6173,-41.7449\"/>\n",
       "<polygon fill=\"black\" stroke=\"black\" points=\"64.5062,-38.7977 54.2442,-36.1628 60.6233,-44.6221 64.5062,-38.7977\"/>\n",
       "</g>\n",
       "<!-- Juraj -->\n",
       "<g id=\"node8\" class=\"node\"><title>Juraj</title>\n",
       "<polygon fill=\"none\" stroke=\"black\" points=\"342,-36 288,-36 288,-1.77636e-14 342,-3.55271e-15 342,-36\"/>\n",
       "<text text-anchor=\"middle\" x=\"315\" y=\"-15.4\" font-family=\"Times Roman,serif\" font-size=\"9.00\" fill=\"green\">Juraj</text>\n",
       "</g>\n",
       "<!-- pivo&#45;&gt;Juraj -->\n",
       "<g id=\"edge18\" class=\"edge\"><title>pivo&#45;&gt;Juraj</title>\n",
       "<path fill=\"none\" stroke=\"black\" d=\"M162.331,-75.8331C165.232,-74.4805 168.159,-73.1766 171,-72 215.006,-53.7721 230.444,-55.1189 278.335,-35.9869\"/>\n",
       "<polygon fill=\"black\" stroke=\"black\" points=\"279.74,-39.1938 287.669,-32.1669 277.088,-32.7153 279.74,-39.1938\"/>\n",
       "</g>\n",
       "<!-- Krystof -->\n",
       "<g id=\"node9\" class=\"node\"><title>Krystof</title>\n",
       "<polygon fill=\"none\" stroke=\"black\" points=\"126,-36 72,-36 72,-1.77636e-14 126,-3.55271e-15 126,-36\"/>\n",
       "<text text-anchor=\"middle\" x=\"99\" y=\"-15.4\" font-family=\"Times Roman,serif\" font-size=\"9.00\" fill=\"green\">Krystof</text>\n",
       "</g>\n",
       "<!-- pivo&#45;&gt;Krystof -->\n",
       "<g id=\"edge26\" class=\"edge\"><title>pivo&#45;&gt;Krystof</title>\n",
       "<path fill=\"none\" stroke=\"black\" d=\"M125.916,-71.8314C121.939,-63.8771 117.185,-54.369 112.786,-45.5723\"/>\n",
       "<polygon fill=\"black\" stroke=\"black\" points=\"115.809,-43.7923 108.207,-36.4133 109.548,-46.9228 115.809,-43.7923\"/>\n",
       "</g>\n",
       "<!-- Ales -->\n",
       "<g id=\"node10\" class=\"node\"><title>Ales</title>\n",
       "<polygon fill=\"none\" stroke=\"black\" points=\"270,-36 216,-36 216,-1.77636e-14 270,-3.55271e-15 270,-36\"/>\n",
       "<text text-anchor=\"middle\" x=\"243\" y=\"-15.4\" font-family=\"Times Roman,serif\" font-size=\"9.00\" fill=\"green\">Ales</text>\n",
       "</g>\n",
       "<!-- pivo&#45;&gt;Ales -->\n",
       "<g id=\"edge34\" class=\"edge\"><title>pivo&#45;&gt;Ales</title>\n",
       "<path fill=\"none\" stroke=\"black\" d=\"M162.253,-71.8314C175.939,-62.7074 192.691,-51.539 207.383,-41.7449\"/>\n",
       "<polygon fill=\"black\" stroke=\"black\" points=\"209.377,-44.6221 215.756,-36.1628 205.494,-38.7977 209.377,-44.6221\"/>\n",
       "</g>\n",
       "<!-- vodka -->\n",
       "<g id=\"node2\" class=\"node\"><title>vodka</title>\n",
       "<polygon fill=\"none\" stroke=\"black\" points=\"306,-108 252,-108 252,-72 306,-72 306,-108\"/>\n",
       "<text text-anchor=\"middle\" x=\"279\" y=\"-87.4\" font-family=\"Times Roman,serif\" font-size=\"9.00\" fill=\"green\">vodka</text>\n",
       "</g>\n",
       "<!-- vodka&#45;&gt;Marek -->\n",
       "<g id=\"edge12\" class=\"edge\"><title>vodka&#45;&gt;Marek</title>\n",
       "<path fill=\"none\" stroke=\"black\" d=\"M251.808,-75.4653C248.88,-74.1844 245.908,-72.9978 243,-72 168.846,-46.5572 142.252,-61.2188 63.9979,-35.8343\"/>\n",
       "<polygon fill=\"black\" stroke=\"black\" points=\"64.786,-32.4067 54.1919,-32.5347 62.5535,-39.0412 64.786,-32.4067\"/>\n",
       "</g>\n",
       "<!-- vodka&#45;&gt;Juraj -->\n",
       "<g id=\"edge20\" class=\"edge\"><title>vodka&#45;&gt;Juraj</title>\n",
       "<path fill=\"none\" stroke=\"black\" d=\"M288.084,-71.8314C292.061,-63.8771 296.815,-54.369 301.214,-45.5723\"/>\n",
       "<polygon fill=\"black\" stroke=\"black\" points=\"304.452,-46.9228 305.793,-36.4133 298.191,-43.7923 304.452,-46.9228\"/>\n",
       "</g>\n",
       "<!-- vodka&#45;&gt;Krystof -->\n",
       "<g id=\"edge28\" class=\"edge\"><title>vodka&#45;&gt;Krystof</title>\n",
       "<path fill=\"none\" stroke=\"black\" d=\"M251.669,-75.8331C248.768,-74.4805 245.841,-73.1766 243,-72 198.994,-53.7721 183.556,-55.1189 135.665,-35.9869\"/>\n",
       "<polygon fill=\"black\" stroke=\"black\" points=\"136.912,-32.7153 126.331,-32.1669 134.26,-39.1938 136.912,-32.7153\"/>\n",
       "</g>\n",
       "<!-- vodka&#45;&gt;Ales -->\n",
       "<g id=\"edge36\" class=\"edge\"><title>vodka&#45;&gt;Ales</title>\n",
       "<path fill=\"none\" stroke=\"black\" d=\"M269.916,-71.8314C265.939,-63.8771 261.185,-54.369 256.786,-45.5723\"/>\n",
       "<polygon fill=\"black\" stroke=\"black\" points=\"259.809,-43.7923 252.207,-36.4133 253.548,-46.9228 259.809,-43.7923\"/>\n",
       "</g>\n",
       "<!-- Honza -->\n",
       "<g id=\"node11\" class=\"node\"><title>Honza</title>\n",
       "<polygon fill=\"none\" stroke=\"black\" points=\"414,-36 360,-36 360,-1.77636e-14 414,-3.55271e-15 414,-36\"/>\n",
       "<text text-anchor=\"middle\" x=\"387\" y=\"-15.4\" font-family=\"Times Roman,serif\" font-size=\"9.00\" fill=\"green\">Honza</text>\n",
       "</g>\n",
       "<!-- vodka&#45;&gt;Honza -->\n",
       "<g id=\"edge44\" class=\"edge\"><title>vodka&#45;&gt;Honza</title>\n",
       "<path fill=\"none\" stroke=\"black\" d=\"M306.253,-71.8314C319.939,-62.7074 336.691,-51.539 351.383,-41.7449\"/>\n",
       "<polygon fill=\"black\" stroke=\"black\" points=\"353.377,-44.6221 359.756,-36.1628 349.494,-38.7977 353.377,-44.6221\"/>\n",
       "</g>\n",
       "<!-- fridex -->\n",
       "<g id=\"node3\" class=\"node\"><title>fridex</title>\n",
       "<polygon fill=\"none\" stroke=\"black\" points=\"90,-108 36,-108 36,-72 90,-72 90,-108\"/>\n",
       "<text text-anchor=\"middle\" x=\"63\" y=\"-87.4\" font-family=\"Times Roman,serif\" font-size=\"9.00\" fill=\"green\">fridex</text>\n",
       "</g>\n",
       "<!-- fridex&#45;&gt;Alan -->\n",
       "<g id=\"edge4\" class=\"edge\"><title>fridex&#45;&gt;Alan</title>\n",
       "<path fill=\"none\" stroke=\"black\" d=\"M90.253,-71.8314C103.939,-62.7074 120.691,-51.539 135.383,-41.7449\"/>\n",
       "<polygon fill=\"black\" stroke=\"black\" points=\"137.377,-44.6221 143.756,-36.1628 133.494,-38.7977 137.377,-44.6221\"/>\n",
       "</g>\n",
       "<!-- fridex&#45;&gt;Marek -->\n",
       "<g id=\"edge14\" class=\"edge\"><title>fridex&#45;&gt;Marek</title>\n",
       "<path fill=\"none\" stroke=\"black\" d=\"M53.9157,-71.8314C49.9385,-63.8771 45.1845,-54.369 40.7861,-45.5723\"/>\n",
       "<polygon fill=\"black\" stroke=\"black\" points=\"43.8093,-43.7923 36.2066,-36.4133 37.5483,-46.9228 43.8093,-43.7923\"/>\n",
       "</g>\n",
       "<!-- fridex&#45;&gt;Krystof -->\n",
       "<g id=\"edge30\" class=\"edge\"><title>fridex&#45;&gt;Krystof</title>\n",
       "<path fill=\"none\" stroke=\"black\" d=\"M72.0843,-71.8314C76.0615,-63.8771 80.8155,-54.369 85.2139,-45.5723\"/>\n",
       "<polygon fill=\"black\" stroke=\"black\" points=\"88.4517,-46.9228 89.7934,-36.4133 82.1907,-43.7923 88.4517,-46.9228\"/>\n",
       "</g>\n",
       "<!-- fridex&#45;&gt;Ales -->\n",
       "<g id=\"edge38\" class=\"edge\"><title>fridex&#45;&gt;Ales</title>\n",
       "<path fill=\"none\" stroke=\"black\" d=\"M90.3311,-75.8331C93.2319,-74.4805 96.1594,-73.1766 99,-72 143.006,-53.7721 158.444,-55.1189 206.335,-35.9869\"/>\n",
       "<polygon fill=\"black\" stroke=\"black\" points=\"207.74,-39.1938 215.669,-32.1669 205.088,-32.7153 207.74,-39.1938\"/>\n",
       "</g>\n",
       "<!-- fernet -->\n",
       "<g id=\"node4\" class=\"node\"><title>fernet</title>\n",
       "<polygon fill=\"none\" stroke=\"black\" points=\"234,-108 180,-108 180,-72 234,-72 234,-108\"/>\n",
       "<text text-anchor=\"middle\" x=\"207\" y=\"-87.4\" font-family=\"Times Roman,serif\" font-size=\"9.00\" fill=\"green\">fernet</text>\n",
       "</g>\n",
       "<!-- fernet&#45;&gt;Alan -->\n",
       "<g id=\"edge6\" class=\"edge\"><title>fernet&#45;&gt;Alan</title>\n",
       "<path fill=\"none\" stroke=\"black\" d=\"M197.916,-71.8314C193.939,-63.8771 189.185,-54.369 184.786,-45.5723\"/>\n",
       "<polygon fill=\"black\" stroke=\"black\" points=\"187.809,-43.7923 180.207,-36.4133 181.548,-46.9228 187.809,-43.7923\"/>\n",
       "</g>\n",
       "<!-- fernet&#45;&gt;Marek -->\n",
       "<g id=\"edge16\" class=\"edge\"><title>fernet&#45;&gt;Marek</title>\n",
       "<path fill=\"none\" stroke=\"black\" d=\"M179.669,-75.8331C176.768,-74.4805 173.841,-73.1766 171,-72 126.994,-53.7721 111.556,-55.1189 63.6652,-35.9869\"/>\n",
       "<polygon fill=\"black\" stroke=\"black\" points=\"64.9117,-32.7153 54.3311,-32.1669 62.2603,-39.1938 64.9117,-32.7153\"/>\n",
       "</g>\n",
       "<!-- fernet&#45;&gt;Juraj -->\n",
       "<g id=\"edge22\" class=\"edge\"><title>fernet&#45;&gt;Juraj</title>\n",
       "<path fill=\"none\" stroke=\"black\" d=\"M234.253,-71.8314C247.939,-62.7074 264.691,-51.539 279.383,-41.7449\"/>\n",
       "<polygon fill=\"black\" stroke=\"black\" points=\"281.377,-44.6221 287.756,-36.1628 277.494,-38.7977 281.377,-44.6221\"/>\n",
       "</g>\n",
       "<!-- fernet&#45;&gt;Krystof -->\n",
       "<g id=\"edge32\" class=\"edge\"><title>fernet&#45;&gt;Krystof</title>\n",
       "<path fill=\"none\" stroke=\"black\" d=\"M179.747,-71.8314C166.061,-62.7074 149.309,-51.539 134.617,-41.7449\"/>\n",
       "<polygon fill=\"black\" stroke=\"black\" points=\"136.506,-38.7977 126.244,-36.1628 132.623,-44.6221 136.506,-38.7977\"/>\n",
       "</g>\n",
       "<!-- fernet&#45;&gt;Ales -->\n",
       "<g id=\"edge40\" class=\"edge\"><title>fernet&#45;&gt;Ales</title>\n",
       "<path fill=\"none\" stroke=\"black\" d=\"M216.084,-71.8314C220.061,-63.8771 224.815,-54.369 229.214,-45.5723\"/>\n",
       "<polygon fill=\"black\" stroke=\"black\" points=\"232.452,-46.9228 233.793,-36.4133 226.191,-43.7923 232.452,-46.9228\"/>\n",
       "</g>\n",
       "<!-- fernet&#45;&gt;Honza -->\n",
       "<g id=\"edge46\" class=\"edge\"><title>fernet&#45;&gt;Honza</title>\n",
       "<path fill=\"none\" stroke=\"black\" d=\"M234.331,-75.8331C237.232,-74.4805 240.159,-73.1766 243,-72 287.006,-53.7721 302.444,-55.1189 350.335,-35.9869\"/>\n",
       "<polygon fill=\"black\" stroke=\"black\" points=\"351.74,-39.1938 359.669,-32.1669 349.088,-32.7153 351.74,-39.1938\"/>\n",
       "</g>\n",
       "<!-- drak -->\n",
       "<g id=\"node5\" class=\"node\"><title>drak</title>\n",
       "<polygon fill=\"none\" stroke=\"black\" points=\"378,-108 324,-108 324,-72 378,-72 378,-108\"/>\n",
       "<text text-anchor=\"middle\" x=\"351\" y=\"-87.4\" font-family=\"Times Roman,serif\" font-size=\"9.00\" fill=\"green\">drak</text>\n",
       "</g>\n",
       "<!-- drak&#45;&gt;Alan -->\n",
       "<g id=\"edge8\" class=\"edge\"><title>drak&#45;&gt;Alan</title>\n",
       "<path fill=\"none\" stroke=\"black\" d=\"M323.669,-75.8331C320.768,-74.4805 317.841,-73.1766 315,-72 270.994,-53.7721 255.556,-55.1189 207.665,-35.9869\"/>\n",
       "<polygon fill=\"black\" stroke=\"black\" points=\"208.912,-32.7153 198.331,-32.1669 206.26,-39.1938 208.912,-32.7153\"/>\n",
       "</g>\n",
       "<!-- drak&#45;&gt;Juraj -->\n",
       "<g id=\"edge24\" class=\"edge\"><title>drak&#45;&gt;Juraj</title>\n",
       "<path fill=\"none\" stroke=\"black\" d=\"M341.916,-71.8314C337.939,-63.8771 333.185,-54.369 328.786,-45.5723\"/>\n",
       "<polygon fill=\"black\" stroke=\"black\" points=\"331.809,-43.7923 324.207,-36.4133 325.548,-46.9228 331.809,-43.7923\"/>\n",
       "</g>\n",
       "<!-- drak&#45;&gt;Ales -->\n",
       "<g id=\"edge42\" class=\"edge\"><title>drak&#45;&gt;Ales</title>\n",
       "<path fill=\"none\" stroke=\"black\" d=\"M323.747,-71.8314C310.061,-62.7074 293.309,-51.539 278.617,-41.7449\"/>\n",
       "<polygon fill=\"black\" stroke=\"black\" points=\"280.506,-38.7977 270.244,-36.1628 276.623,-44.6221 280.506,-38.7977\"/>\n",
       "</g>\n",
       "<!-- drak&#45;&gt;Honza -->\n",
       "<g id=\"edge48\" class=\"edge\"><title>drak&#45;&gt;Honza</title>\n",
       "<path fill=\"none\" stroke=\"black\" d=\"M360.084,-71.8314C364.061,-63.8771 368.815,-54.369 373.214,-45.5723\"/>\n",
       "<polygon fill=\"black\" stroke=\"black\" points=\"376.452,-46.9228 377.793,-36.4133 370.191,-43.7923 376.452,-46.9228\"/>\n",
       "</g>\n",
       "</g>\n",
       "</svg>\n"
      ],
      "text/plain": [
       "<graphviz.dot.Digraph at 0x3054d10>"
      ]
     },
     "execution_count": 5,
     "metadata": {},
     "output_type": "execute_result"
    }
   ],
   "source": [
    "from graphviz import Digraph\n",
    "import random\n",
    "\n",
    "dot = Digraph()\n",
    "    \n",
    "piti = [\"pivo\", \"vodka\", \"fridex\", \"fernet\", \"drak\"]    \n",
    "vyzkumnici = [\"Alan\", \"Marek\", \"Juraj\", \"Krystof\", \"Ales\", \"Honza\"]\n",
    "\n",
    "for p in piti:    \n",
    "    dot.node(p, label=p, shape=\"rectangle\", fontcolor=\"green\", fontsize=\"9\")\n",
    "    \n",
    "for v in vyzkumnici:    \n",
    "    dot.node(v, label=v, shape=\"rectangle\", fontcolor=\"green\", fontsize=\"9\")\n",
    "\n",
    "for v in vyzkumnici:\n",
    "    for p in piti:\n",
    "        if random.random() > 0.3:\n",
    "            dot.edge(p, v)\n",
    "dot"
   ]
  },
  {
   "cell_type": "markdown",
   "metadata": {},
   "source": [
    "[Příklad složitějšího dynamicky generovaného schématu](http://markov.dev:2222/notebooks/firmQC/Main/classify/flow/Flow.ipynb)"
   ]
  },
  {
   "cell_type": "markdown",
   "metadata": {},
   "source": [
    "## 2. Popis grafu přímo v buňce"
   ]
  },
  {
   "cell_type": "code",
   "execution_count": 2,
   "metadata": {
    "collapsed": false
   },
   "outputs": [
    {
     "name": "stdout",
     "output_type": "stream",
     "text": [
      "Installed gvmagic.py. To use it, type:\n",
      "  %load_ext gvmagic\n"
     ]
    },
    {
     "name": "stderr",
     "output_type": "stream",
     "text": [
      "/usr/local/lib/python2.7/dist-packages/IPython/core/magics/extension.py:47: UserWarning: %install_ext` is deprecated, please distribute your extension(s)as a python packages.\n",
      "  \"as a python packages.\", UserWarning)\n"
     ]
    }
   ],
   "source": [
    "%install_ext https://raw.github.com/cjdrake/ipython-magic/master/gvmagic.py\n",
    "%load_ext gvmagic"
   ]
  },
  {
   "cell_type": "code",
   "execution_count": 3,
   "metadata": {
    "collapsed": false
   },
   "outputs": [
    {
     "data": {
      "image/svg+xml": [
       "<?xml version=\"1.0\" encoding=\"UTF-8\" standalone=\"no\"?>\n",
       "<!DOCTYPE svg PUBLIC \"-//W3C//DTD SVG 1.1//EN\"\n",
       " \"http://www.w3.org/Graphics/SVG/1.1/DTD/svg11.dtd\">\n",
       "<!-- Generated by graphviz version 2.26.3 (20100126.1600)\n",
       " -->\n",
       "<!-- Title: G Pages: 1 -->\n",
       "<svg width=\"62pt\" height=\"188pt\"\n",
       " viewBox=\"0.00 0.00 62.00 188.00\" xmlns=\"http://www.w3.org/2000/svg\" xmlns:xlink=\"http://www.w3.org/1999/xlink\">\n",
       "<g id=\"graph1\" class=\"graph\" transform=\"scale(1 1) rotate(0) translate(4 184)\">\n",
       "<title>G</title>\n",
       "<polygon fill=\"white\" stroke=\"white\" points=\"-4,5 -4,-184 59,-184 59,5 -4,5\"/>\n",
       "<!-- a -->\n",
       "<g id=\"node1\" class=\"node\"><title>a</title>\n",
       "<ellipse fill=\"none\" stroke=\"black\" cx=\"27\" cy=\"-162\" rx=\"27\" ry=\"18\"/>\n",
       "<text text-anchor=\"middle\" x=\"27\" y=\"-157.9\" font-family=\"Times Roman,serif\" font-size=\"14.00\">a</text>\n",
       "</g>\n",
       "<!-- b -->\n",
       "<g id=\"node3\" class=\"node\"><title>b</title>\n",
       "<ellipse fill=\"none\" stroke=\"black\" cx=\"27\" cy=\"-90\" rx=\"27\" ry=\"18\"/>\n",
       "<text text-anchor=\"middle\" x=\"27\" y=\"-85.9\" font-family=\"Times Roman,serif\" font-size=\"14.00\">b</text>\n",
       "</g>\n",
       "<!-- a&#45;&gt;b -->\n",
       "<g id=\"edge2\" class=\"edge\"><title>a&#45;&gt;b</title>\n",
       "<path fill=\"none\" stroke=\"black\" d=\"M27,-143.831C27,-136.131 27,-126.974 27,-118.417\"/>\n",
       "<polygon fill=\"black\" stroke=\"black\" points=\"30.5001,-118.413 27,-108.413 23.5001,-118.413 30.5001,-118.413\"/>\n",
       "</g>\n",
       "<!-- c -->\n",
       "<g id=\"node5\" class=\"node\"><title>c</title>\n",
       "<ellipse fill=\"none\" stroke=\"black\" cx=\"27\" cy=\"-18\" rx=\"27\" ry=\"18\"/>\n",
       "<text text-anchor=\"middle\" x=\"27\" y=\"-13.9\" font-family=\"Times Roman,serif\" font-size=\"14.00\">c</text>\n",
       "</g>\n",
       "<!-- b&#45;&gt;c -->\n",
       "<g id=\"edge4\" class=\"edge\"><title>b&#45;&gt;c</title>\n",
       "<path fill=\"none\" stroke=\"black\" d=\"M27,-71.8314C27,-64.131 27,-54.9743 27,-46.4166\"/>\n",
       "<polygon fill=\"black\" stroke=\"black\" points=\"30.5001,-46.4132 27,-36.4133 23.5001,-46.4133 30.5001,-46.4132\"/>\n",
       "</g>\n",
       "</g>\n",
       "</svg>\n"
      ]
     },
     "metadata": {},
     "output_type": "display_data"
    }
   ],
   "source": [
    "%%dot digraph G {\n",
    "    a -> b;\n",
    "    b -> c;\n",
    "}"
   ]
  }
 ],
 "metadata": {
  "kernelspec": {
   "display_name": "Python 2",
   "language": "python",
   "name": "python2"
  },
  "language_info": {
   "codemirror_mode": {
    "name": "ipython",
    "version": 2
   },
   "file_extension": ".py",
   "mimetype": "text/x-python",
   "name": "python",
   "nbconvert_exporter": "python",
   "pygments_lexer": "ipython2",
   "version": "2.7.3"
  }
 },
 "nbformat": 4,
 "nbformat_minor": 0
}
