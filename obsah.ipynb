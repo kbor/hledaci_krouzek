{
 "cells": [
  {
   "cell_type": "markdown",
   "metadata": {},
   "source": [
    "# Obsah"
   ]
  },
  {
   "cell_type": "markdown",
   "metadata": {},
   "source": [
    "\n",
    "* [Druhy vstupu](druhy_vstupu.ipynb)\n",
    "* [Grafíky](grafiky.ipynb)\n",
    "* [Importění](importeni_2.ipynb)\n",
    "* [Zkratky](zkratky.ipynb)\n",
    "* [JupyterHub](https://github.com/jupyter/jupyterhub/blob/master/docs/getting-started.md)"
   ]
  }
 ],
 "metadata": {
  "kernelspec": {
   "display_name": "Python 2",
   "language": "python",
   "name": "python2"
  },
  "language_info": {
   "codemirror_mode": {
    "name": "ipython",
    "version": 2
   },
   "file_extension": ".py",
   "mimetype": "text/x-python",
   "name": "python",
   "nbconvert_exporter": "python",
   "pygments_lexer": "ipython2",
   "version": "2.7.6"
  }
 },
 "nbformat": 4,
 "nbformat_minor": 0
}
